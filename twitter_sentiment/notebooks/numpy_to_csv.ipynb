{
 "cells": [
  {
   "cell_type": "code",
   "execution_count": 1,
   "id": "89addd95",
   "metadata": {},
   "outputs": [],
   "source": [
    "import numpy as np\n",
    "import pandas as pd"
   ]
  },
  {
   "cell_type": "code",
   "execution_count": 2,
   "id": "5e278798",
   "metadata": {},
   "outputs": [],
   "source": [
    "def category_to_number(category):\n",
    "    if category == 'negative':\n",
    "        return 0\n",
    "    elif category == 'positive':\n",
    "        return 2\n",
    "    else: \n",
    "        return 1"
   ]
  },
  {
   "cell_type": "code",
   "execution_count": 8,
   "id": "57cdc2eb",
   "metadata": {},
   "outputs": [],
   "source": [
    "def convert_file(path):\n",
    "    data = np.load(path + '.npy', allow_pickle=True)\n",
    "    df = pd.DataFrame(data)\n",
    "    # Keep only target and text field\n",
    "    df = df[[1,10]]\n",
    "    print(df)\n",
    "    df[1] = df[1].apply(lambda x: category_to_number(x))\n",
    "    df.to_csv(path + '.csv', index=False)"
   ]
  },
  {
   "cell_type": "code",
   "execution_count": 9,
   "id": "7d0cbf0e",
   "metadata": {},
   "outputs": [
    {
     "name": "stdout",
     "output_type": "stream",
     "text": [
      "             1                                                  10\n",
      "0      positive  @SouthwestAir you're my early frontrunner for ...\n",
      "1      negative  @USAirways how is it that my flt to EWR was Ca...\n",
      "2      negative  @JetBlue what is going on with your BDL to DCA...\n",
      "3       neutral  @JetBlue do they have to depart from Washingto...\n",
      "4      negative  @JetBlue I can probably find some of them. Are...\n",
      "...         ...                                                ...\n",
      "11707  positive  @SouthwestAir I wish i would've seen this 4 ho...\n",
      "11708   neutral  @SouthwestAir it's never too Late Flight to do...\n",
      "11709  negative  @SouthwestAir has become like every other airl...\n",
      "11710  negative  @usairways HI again! How you suggested I conta...\n",
      "11711   neutral  @VirginAmerica Done, but I need the receipt AS...\n",
      "\n",
      "[11712 rows x 2 columns]\n",
      "            1                                                  10\n",
      "0      neutral  @AmericanAir I am dealing with the reFlight Bo...\n",
      "1     negative  @AmericanAir I paid using Paypal online and af...\n",
      "2     negative                        @united still no response??\n",
      "3     positive  @AmericanAir welcome anyone who works in those...\n",
      "4      neutral  @SouthwestAir is having a party in the atl ter...\n",
      "...        ...                                                ...\n",
      "1459  positive  @SouthwestAir replacing @vitaminwater with bee...\n",
      "1460  negative  @AmericanAir at LAX and your service reps just...\n",
      "1461  negative  @SouthwestAir Been on hold for over an hour - ...\n",
      "1462  negative  @united we would...how do I contact you to dis...\n",
      "1463   neutral  @JetBlue that's ok! It just sure seemed like i...\n",
      "\n",
      "[1464 rows x 2 columns]\n",
      "            1                                                  10\n",
      "0     negative  @USAirways I didn't even leave the airport and...\n",
      "1     negative  @AmericanAir I used the \"call back\" feature wi...\n",
      "2     positive  Always have it together!!! You're welcome! RT ...\n",
      "3     positive  @united finally made it to rep, who solved my ...\n",
      "4     negative  @USAirways : its just a very bad customer serv...\n",
      "...        ...                                                ...\n",
      "1459  negative  @SouthwestAir I already follow you and can't D...\n",
      "1460  negative  @united its not the way to treat your customer...\n",
      "1461  negative  @AmericanAir I don't believe it's acceptable t...\n",
      "1462  negative  @SouthwestAir have a prompt for consumers for ...\n",
      "1463   neutral                        @united I just sent to you.\n",
      "\n",
      "[1464 rows x 2 columns]\n"
     ]
    }
   ],
   "source": [
    "convert_file('../data/interim/train_data')\n",
    "convert_file('../data/interim/dev_data')\n",
    "convert_file('../data/interim/test_data')"
   ]
  }
 ],
 "metadata": {
  "kernelspec": {
   "display_name": "twitter_sentiment",
   "language": "python",
   "name": "twitter_sentiment"
  },
  "language_info": {
   "codemirror_mode": {
    "name": "ipython",
    "version": 3
   },
   "file_extension": ".py",
   "mimetype": "text/x-python",
   "name": "python",
   "nbconvert_exporter": "python",
   "pygments_lexer": "ipython3",
   "version": "3.8.5"
  }
 },
 "nbformat": 4,
 "nbformat_minor": 5
}
