{
 "cells": [
  {
   "cell_type": "code",
   "execution_count": 4,
   "id": "b50252d1",
   "metadata": {},
   "outputs": [],
   "source": [
    "import pandas as pd\n",
    "import numpy as np\n",
    "from textblob import TextBlob\n",
    "from sklearn.metrics import classification_report"
   ]
  },
  {
   "cell_type": "code",
   "execution_count": 5,
   "id": "b4093f84",
   "metadata": {},
   "outputs": [],
   "source": [
    "# Sentiment cutoffs \n",
    "# based on percentage of pos/neg comments and percentiles of TextBlob values\n",
    "\n",
    "positive_cutoff = 0.25\n",
    "negative_cutoff = -0.05"
   ]
  },
  {
   "cell_type": "code",
   "execution_count": 6,
   "id": "83d00ec2",
   "metadata": {},
   "outputs": [],
   "source": [
    "# Read in dev data from numpy\n",
    "\n",
    "dev_data = np.load(\"../data/interim/dev_data.npy\", allow_pickle=True)"
   ]
  },
  {
   "cell_type": "code",
   "execution_count": 7,
   "id": "0978d3ba",
   "metadata": {},
   "outputs": [],
   "source": [
    "# Reading in columns\n",
    "\n",
    "df = pd.read_csv(\"../data/raw/Tweets.csv\")\n",
    "cols = df.columns.values"
   ]
  },
  {
   "cell_type": "code",
   "execution_count": 8,
   "id": "ae271cf7",
   "metadata": {},
   "outputs": [],
   "source": [
    "# Create dev data frame\n",
    "\n",
    "dev_df = pd.DataFrame(dev_data, columns=cols)"
   ]
  },
  {
   "cell_type": "code",
   "execution_count": 9,
   "id": "d34f75a2",
   "metadata": {},
   "outputs": [],
   "source": [
    "predicted_polarity = dev_df.text.apply(lambda x: TextBlob(x).sentiment[0])"
   ]
  },
  {
   "cell_type": "code",
   "execution_count": 10,
   "id": "3f9225af",
   "metadata": {},
   "outputs": [],
   "source": [
    "predicted_class = [\"positive\" if sentiment >= positive_cutoff \n",
    "                   else \"negative\" if sentiment <= negative_cutoff\n",
    "                  else \"neutral\" for sentiment in predicted_polarity]\n",
    "\n",
    "actual_class = dev_df.airline_sentiment"
   ]
  },
  {
   "cell_type": "code",
   "execution_count": 12,
   "id": "9948e316",
   "metadata": {},
   "outputs": [
    {
     "name": "stdout",
     "output_type": "stream",
     "text": [
      "              precision    recall  f1-score   support\n",
      "\n",
      "    negative       0.89      0.31      0.46       908\n",
      "     neutral       0.29      0.75      0.42       312\n",
      "    positive       0.42      0.58      0.48       244\n",
      "\n",
      "    accuracy                           0.45      1464\n",
      "   macro avg       0.53      0.55      0.45      1464\n",
      "weighted avg       0.68      0.45      0.46      1464\n",
      "\n"
     ]
    }
   ],
   "source": [
    "# Baseline metrics\n",
    "\n",
    "print(classification_report(actual_class, predicted_class))"
   ]
  },
  {
   "cell_type": "code",
   "execution_count": null,
   "id": "735855c7",
   "metadata": {},
   "outputs": [],
   "source": []
  }
 ],
 "metadata": {
  "kernelspec": {
   "display_name": "twitter_sent",
   "language": "python",
   "name": "twitter_sent"
  },
  "language_info": {
   "codemirror_mode": {
    "name": "ipython",
    "version": 3
   },
   "file_extension": ".py",
   "mimetype": "text/x-python",
   "name": "python",
   "nbconvert_exporter": "python",
   "pygments_lexer": "ipython3",
   "version": "3.8.5"
  }
 },
 "nbformat": 4,
 "nbformat_minor": 5
}
