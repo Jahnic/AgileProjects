{
 "cells": [
  {
   "cell_type": "code",
   "execution_count": 34,
   "id": "8ff573ed",
   "metadata": {},
   "outputs": [],
   "source": [
    "from comet_ml import Experiment\n",
    "import torch.nn as nn\n",
    "import torch\n",
    "import torch.nn.functional as F\n",
    "from torchtext.legacy.data import Field, TabularDataset, BucketIterator\n",
    "import torch.optim as optim\n",
    "from torch.utils.data import DataLoader\n",
    "from torch.nn.utils.rnn import pack_padded_sequence, pad_packed_sequence\n",
    "from sklearn.metrics import f1_score\n",
    "from tqdm import tqdm_notebook as tqdm\n",
    "from google.cloud import secretmanager\n",
    "import numpy as np\n",
    "import json\n",
    "import pickle\n",
    "import warnings\n",
    "# Filter warnings because Pytorch depricating Field and other functions,\n",
    "# but not clear on what to use instead yet\n",
    "warnings.filterwarnings('ignore')"
   ]
  },
  {
   "cell_type": "code",
   "execution_count": 35,
   "id": "b2230044",
   "metadata": {},
   "outputs": [],
   "source": [
    "# !pip3 install -U pip setuptools wheel\n",
    "# !pip3 install -U spacy\n",
    "# !python -m spacy download en_core_web_trf"
   ]
  },
  {
   "cell_type": "code",
   "execution_count": 36,
   "id": "876269cb",
   "metadata": {},
   "outputs": [],
   "source": [
    "with open('../data/raw/comet_cred.json') as f:\n",
    "    comet_creds = json.load(f)"
   ]
  },
  {
   "cell_type": "code",
   "execution_count": 37,
   "id": "40ee2478",
   "metadata": {},
   "outputs": [],
   "source": [
    "device = torch.device(\"cuda\" if torch.cuda.is_available() else \"cpu\")\n",
    "source_folder = \"../data/interim/\""
   ]
  },
  {
   "cell_type": "code",
   "execution_count": 38,
   "id": "940351d8",
   "metadata": {},
   "outputs": [],
   "source": [
    "hyper_params = {\n",
    "    \"tokenize\": \"spacy\",\n",
    "    \"lower\": True,\n",
    "    \"batch_size\": 16,\n",
    "    \"hidden_size\": 64,\n",
    "    \"embedding_size\": 32,\n",
    "    \"num_classes\": 3,\n",
    "    \"num_layers\": 1,\n",
    "    \"learning_rate\": 0.001,\n",
    "    \"min_freq\": 5,\n",
    "    \"bidirectional\": True,\n",
    "    \"num_epochs\": 75,\n",
    "    \"disabled\": False,\n",
    "    \"dropout_p\": 0.6,\n",
    "    \"save_model_path\": \"../models/pytorch_model.pt\",\n",
    "    \"save_vocab_path\": \"../models/pytorch_vocab.pkl\"\n",
    "}"
   ]
  },
  {
   "cell_type": "code",
   "execution_count": 39,
   "id": "eb7b6eca",
   "metadata": {},
   "outputs": [
    {
     "name": "stderr",
     "output_type": "stream",
     "text": [
      "COMET INFO: ---------------------------\n",
      "COMET INFO: Comet.ml Experiment Summary\n",
      "COMET INFO: ---------------------------\n",
      "COMET INFO:   Data:\n",
      "COMET INFO:     display_summary_level : 1\n",
      "COMET INFO:     url                   : https://www.comet.ml/jahnic/general/92f5a90cf21a4f91abecbfa0b7f52fff\n",
      "COMET INFO:   Parameters:\n",
      "COMET INFO:     batch_size      : 16\n",
      "COMET INFO:     bidirectional   : True\n",
      "COMET INFO:     disabled        : 1\n",
      "COMET INFO:     dropout_p       : 0.6\n",
      "COMET INFO:     embedding_size  : 32\n",
      "COMET INFO:     hidden_size     : 64\n",
      "COMET INFO:     learning_rate   : 0.001\n",
      "COMET INFO:     lower           : True\n",
      "COMET INFO:     min_freq        : 5\n",
      "COMET INFO:     num_classes     : 3\n",
      "COMET INFO:     num_epochs      : 75\n",
      "COMET INFO:     num_layers      : 1\n",
      "COMET INFO:     save_model_path : ../models/pytorch_model.pt\n",
      "COMET INFO:     save_vocab_path : ../models/pytorch_vocab.pkl\n",
      "COMET INFO:     tokenize        : spacy\n",
      "COMET INFO:   Uploads:\n",
      "COMET INFO:     environment details      : 1\n",
      "COMET INFO:     filename                 : 1\n",
      "COMET INFO:     git metadata             : 1\n",
      "COMET INFO:     git-patch (uncompressed) : 1 (13 KB)\n",
      "COMET INFO:     installed packages       : 1\n",
      "COMET INFO:     os packages              : 1\n",
      "COMET INFO: ---------------------------\n",
      "COMET WARNING: As you are running in a Jupyter environment, you will need to call `experiment.end()` when finished to ensure all metrics and code are logged before exiting.\n",
      "COMET INFO: Experiment is live on comet.ml https://www.comet.ml/jahnic/general/d7529baa8bcf490dbaea65b59a16861c\n",
      "\n"
     ]
    }
   ],
   "source": [
    "experiment = Experiment(api_key=comet_creds[\"api_key\"], project_name=comet_creds[\"project_name\"],\n",
    "                        workspace=comet_creds[\"workspace\"], disabled=hyper_params[\"disabled\"])\n",
    "experiment.log_parameters(hyper_params)"
   ]
  },
  {
   "cell_type": "code",
   "execution_count": null,
   "id": "304fe11a",
   "metadata": {},
   "outputs": [],
   "source": []
  }
 ],
 "metadata": {
  "kernelspec": {
   "display_name": "twitter_sentiment",
   "language": "python",
   "name": "twitter_sentiment"
  },
  "language_info": {
   "codemirror_mode": {
    "name": "ipython",
    "version": 3
   },
   "file_extension": ".py",
   "mimetype": "text/x-python",
   "name": "python",
   "nbconvert_exporter": "python",
   "pygments_lexer": "ipython3",
   "version": "3.8.5"
  }
 },
 "nbformat": 4,
 "nbformat_minor": 5
}
