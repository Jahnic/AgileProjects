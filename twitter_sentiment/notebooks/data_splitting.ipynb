{
 "cells": [
  {
   "cell_type": "code",
   "execution_count": 30,
   "id": "4537d999",
   "metadata": {},
   "outputs": [],
   "source": [
    "import pandas as pd\n",
    "import numpy as np"
   ]
  },
  {
   "cell_type": "code",
   "execution_count": 15,
   "id": "c172184b",
   "metadata": {},
   "outputs": [],
   "source": [
    "train_size = .8\n",
    "dev_size = .1\n",
    "test_size = .1"
   ]
  },
  {
   "cell_type": "code",
   "execution_count": 16,
   "id": "497c7694",
   "metadata": {},
   "outputs": [],
   "source": [
    "df = pd.read_csv('../data/raw/Tweets.csv')"
   ]
  },
  {
   "cell_type": "code",
   "execution_count": 17,
   "id": "712f7d22",
   "metadata": {},
   "outputs": [
    {
     "name": "stdout",
     "output_type": "stream",
     "text": [
      "<class 'pandas.core.frame.DataFrame'>\n",
      "RangeIndex: 14640 entries, 0 to 14639\n",
      "Data columns (total 15 columns):\n",
      " #   Column                        Non-Null Count  Dtype  \n",
      "---  ------                        --------------  -----  \n",
      " 0   tweet_id                      14640 non-null  int64  \n",
      " 1   airline_sentiment             14640 non-null  object \n",
      " 2   airline_sentiment_confidence  14640 non-null  float64\n",
      " 3   negativereason                9178 non-null   object \n",
      " 4   negativereason_confidence     10522 non-null  float64\n",
      " 5   airline                       14640 non-null  object \n",
      " 6   airline_sentiment_gold        40 non-null     object \n",
      " 7   name                          14640 non-null  object \n",
      " 8   negativereason_gold           32 non-null     object \n",
      " 9   retweet_count                 14640 non-null  int64  \n",
      " 10  text                          14640 non-null  object \n",
      " 11  tweet_coord                   1019 non-null   object \n",
      " 12  tweet_created                 14640 non-null  object \n",
      " 13  tweet_location                9907 non-null   object \n",
      " 14  user_timezone                 9820 non-null   object \n",
      "dtypes: float64(2), int64(2), object(11)\n",
      "memory usage: 1.7+ MB\n"
     ]
    }
   ],
   "source": [
    "df.info()"
   ]
  },
  {
   "cell_type": "code",
   "execution_count": 18,
   "id": "90655ae6",
   "metadata": {},
   "outputs": [],
   "source": [
    "# Sample of same size as df (frac=1) with shuffled rows\n",
    "df = df.sample(frac=1, random_state=42)"
   ]
  },
  {
   "cell_type": "code",
   "execution_count": 19,
   "id": "16cc1287",
   "metadata": {},
   "outputs": [],
   "source": [
    "# Values only\n",
    "data_array = df.values\n",
    "data_shape = data_array.shape"
   ]
  },
  {
   "cell_type": "code",
   "execution_count": 25,
   "id": "30bd9aa7",
   "metadata": {},
   "outputs": [],
   "source": [
    "# Split data -> train, test, dev\n",
    "train_length = round(data_shape[0] * train_size)\n",
    "test_length = round(data_shape[0] * test_size)\n",
    "dev_lenth = data_shape[0] - train_length - test_length\n",
    "train_array = data_array[:train_length]\n",
    "test_array = data_array[train_length:train_length + test_length]\n",
    "dev_array = data_array[train_length + test_length:]"
   ]
  },
  {
   "cell_type": "code",
   "execution_count": 31,
   "id": "9a635a84",
   "metadata": {},
   "outputs": [],
   "source": [
    "# Save as files\n",
    "np.save(\"../data/interim/train_data.npy\", train_array)\n",
    "np.save(\"../data/interim/test_data.npy\", test_array)\n",
    "np.save(\"../data/interim/dev_data.npy\", dev_array)"
   ]
  }
 ],
 "metadata": {
  "kernelspec": {
   "display_name": "Python 3",
   "language": "python",
   "name": "python3"
  },
  "language_info": {
   "codemirror_mode": {
    "name": "ipython",
    "version": 3
   },
   "file_extension": ".py",
   "mimetype": "text/x-python",
   "name": "python",
   "nbconvert_exporter": "python",
   "pygments_lexer": "ipython3",
   "version": "3.8.5"
  }
 },
 "nbformat": 4,
 "nbformat_minor": 5
}
