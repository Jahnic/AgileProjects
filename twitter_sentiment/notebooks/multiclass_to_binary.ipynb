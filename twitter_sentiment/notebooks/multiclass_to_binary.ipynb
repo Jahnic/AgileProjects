{
 "cells": [
  {
   "cell_type": "code",
   "execution_count": 1,
   "id": "d7655618",
   "metadata": {},
   "outputs": [],
   "source": [
    "import pandas as pd"
   ]
  },
  {
   "cell_type": "code",
   "execution_count": 2,
   "id": "2b38ffcb",
   "metadata": {},
   "outputs": [],
   "source": [
    "def to_binary(label):\n",
    "    if label == 2:\n",
    "        return 1\n",
    "    else: \n",
    "        return 0"
   ]
  },
  {
   "cell_type": "code",
   "execution_count": 3,
   "id": "40ee2a89",
   "metadata": {},
   "outputs": [],
   "source": [
    "train_path = \"../data/interim/train_data.csv\"\n",
    "val_path = \"../data/interim/dev_data.csv\"\n",
    "test_path = \"../data/interim/test_data.csv\"\n",
    "\n",
    "train = pd.read_csv(train_path)\n",
    "validate = pd.read_csv(val_path)\n",
    "test = pd.read_csv(test_path)"
   ]
  },
  {
   "cell_type": "code",
   "execution_count": 12,
   "id": "1649c8a8",
   "metadata": {},
   "outputs": [],
   "source": [
    "train_bin = train['1'].apply(to_binary)\n",
    "dev_bin = train['1'].apply(to_binary)\n",
    "test_bin = train['1'].apply(to_binary)"
   ]
  },
  {
   "cell_type": "code",
   "execution_count": 13,
   "id": "aeb5090f",
   "metadata": {},
   "outputs": [],
   "source": [
    "train_bin.to_csv(\"../data/interim/train_bin_data.csv\")\n",
    "dev_bin.to_csv(\"../data/interim/dev_bin_data.csv\")\n",
    "test_bin.to_csv(\"../data/interim/test_bin_data.csv\")"
   ]
  }
 ],
 "metadata": {
  "kernelspec": {
   "display_name": "twitter_sentiment",
   "language": "python",
   "name": "twitter_sentiment"
  },
  "language_info": {
   "codemirror_mode": {
    "name": "ipython",
    "version": 3
   },
   "file_extension": ".py",
   "mimetype": "text/x-python",
   "name": "python",
   "nbconvert_exporter": "python",
   "pygments_lexer": "ipython3",
   "version": "3.8.5"
  }
 },
 "nbformat": 4,
 "nbformat_minor": 5
}
